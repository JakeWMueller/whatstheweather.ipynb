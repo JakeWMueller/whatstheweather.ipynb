{
 "cells": [
  {
   "cell_type": "code",
   "execution_count": 1,
   "metadata": {},
   "outputs": [],
   "source": [
    "# OpenweatherMap API\n",
    "\n",
    "# https://openweathermap.org"
   ]
  },
  {
   "cell_type": "code",
   "execution_count": 2,
   "metadata": {},
   "outputs": [],
   "source": [
    "# API/Developer\n",
    "\n",
    "# Sign Up for account\n",
    "\n",
    "# Find Where API key is\n",
    "\n",
    "# Attach the API key to EVERY single API call\n",
    "\n",
    "# Look up API documentation for the current forecast\n",
    "\n",
    "# Find out how to make an API call\n",
    "\n",
    "# Current weather conditions\n",
    "# Today's High Temperature\n",
    "# Current Temperature\n",
    "# Today's Low Temperature\n",
    "# Humidity\n",
    "# City, State"
   ]
  },
  {
   "cell_type": "code",
   "execution_count": 26,
   "metadata": {
    "scrolled": true
   },
   "outputs": [
    {
     "name": "stdout",
     "output_type": "stream",
     "text": [
      "{'description': 'clear sky', 'temp_max': 46, 'temp': 43, 'temp_min': 42, 'humidity': 53, 'name': 'Paris'}\n",
      "{'description': 'scattered clouds', 'temp_max': 44, 'temp': 43, 'temp_min': 42, 'humidity': 65, 'name': 'London'}\n"
     ]
    }
   ],
   "source": [
    "import requests\n",
    "import math\n",
    "\n",
    "city = \"Paris,FR\"\n",
    "apikey = \"9118fa912d79b8a53520c7295f7b7c49\"\n",
    "\n",
    "def weatherstats(apikey, city):\n",
    "    url = f'https://api.openweathermap.org/data/2.5/weather?q={city}&appid={apikey}'\n",
    "    \n",
    "    response = requests.get(url).json()\n",
    "    \n",
    "    currentweather = response['weather'][0]['description']\n",
    "    hightemptoday = response['main']['temp_max']\n",
    "    hightemptoday = math.floor((hightemptoday*1.8) - 459.67)\n",
    "    currenttemperature = response['main']['temp']\n",
    "    currenttemperature = math.floor((currenttemperature*1.8) - 459.67)\n",
    "    lowtemptoday = response['main']['temp_min']\n",
    "    lowtemptoday = math.floor((lowtemptoday*1.8) - 459.67)\n",
    "    humidity = response['main']['humidity']\n",
    "    cityname = response['name']\n",
    "\n",
    "    return {\n",
    "        'description': currentweather,\n",
    "        'temp_max': hightemptoday,\n",
    "        'temp': currenttemperature,\n",
    "        'temp_min': lowtemptoday,\n",
    "        'humidity': humidity,\n",
    "        'name': cityname    \n",
    "    }\n",
    "    \n",
    "print(weatherstats(apikey, city))\n",
    "print(weatherstats(apikey, 'london,uk'))"
   ]
  },
  {
   "cell_type": "code",
   "execution_count": null,
   "metadata": {},
   "outputs": [],
   "source": []
  },
  {
   "cell_type": "code",
   "execution_count": null,
   "metadata": {},
   "outputs": [],
   "source": []
  }
 ],
 "metadata": {
  "kernelspec": {
   "display_name": "Python 3",
   "language": "python",
   "name": "python3"
  },
  "language_info": {
   "codemirror_mode": {
    "name": "ipython",
    "version": 3
   },
   "file_extension": ".py",
   "mimetype": "text/x-python",
   "name": "python",
   "nbconvert_exporter": "python",
   "pygments_lexer": "ipython3",
   "version": "3.8.5"
  }
 },
 "nbformat": 4,
 "nbformat_minor": 5
}
